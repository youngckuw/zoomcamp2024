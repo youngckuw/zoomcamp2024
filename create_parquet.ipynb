{
 "cells": [
  {
   "cell_type": "code",
   "execution_count": 1,
   "id": "50f3d094-abef-43cf-a863-087d32d7daff",
   "metadata": {},
   "outputs": [],
   "source": [
    "import pyspark"
   ]
  },
  {
   "cell_type": "code",
   "execution_count": 2,
   "id": "5b8f56e3-0ccd-4207-a398-07a517c8100b",
   "metadata": {},
   "outputs": [],
   "source": [
    "from pyspark.sql import SparkSession"
   ]
  },
  {
   "cell_type": "code",
   "execution_count": 3,
   "id": "9b366350-74a0-413b-a758-1f8cfb637ae5",
   "metadata": {},
   "outputs": [
    {
     "name": "stderr",
     "output_type": "stream",
     "text": [
      "Setting default log level to \"WARN\".\n",
      "To adjust logging level use sc.setLogLevel(newLevel). For SparkR, use setLogLevel(newLevel).\n",
      "24/03/05 22:01:47 WARN NativeCodeLoader: Unable to load native-hadoop library for your platform... using builtin-java classes where applicable\n"
     ]
    }
   ],
   "source": [
    "spark = SparkSession.builder \\\n",
    "    .master(\"local[*]\") \\\n",
    "    .appName('test') \\\n",
    "    .getOrCreate()"
   ]
  },
  {
   "cell_type": "code",
   "execution_count": 7,
   "id": "925871a3-7842-4ddb-b5f6-0798161b317a",
   "metadata": {},
   "outputs": [
    {
     "data": {
      "text/plain": [
       "'3.5.1'"
      ]
     },
     "execution_count": 7,
     "metadata": {},
     "output_type": "execute_result"
    }
   ],
   "source": [
    "spark.version"
   ]
  },
  {
   "cell_type": "code",
   "execution_count": 13,
   "id": "13c84d14-4b59-4675-bd16-686ab7f6576b",
   "metadata": {},
   "outputs": [],
   "source": [
    "# df = spark.read \\\n",
    "#     .option(\"header\", \"true\") \\\n",
    "#     .csv('fhv_tripdata_2019-10.csv')"
   ]
  },
  {
   "cell_type": "code",
   "execution_count": 15,
   "id": "6c9d276d-8559-4e06-91d1-6a9d86b730dc",
   "metadata": {},
   "outputs": [
    {
     "name": "stdout",
     "output_type": "stream",
     "text": [
      "root\n",
      " |-- dispatching_base_num: string (nullable = true)\n",
      " |-- pickup_datetime: string (nullable = true)\n",
      " |-- dropOff_datetime: string (nullable = true)\n",
      " |-- PUlocationID: string (nullable = true)\n",
      " |-- DOlocationID: string (nullable = true)\n",
      " |-- SR_Flag: string (nullable = true)\n",
      " |-- Affiliated_base_number: string (nullable = true)\n",
      "\n"
     ]
    }
   ],
   "source": [
    "df.printSchema()"
   ]
  },
  {
   "cell_type": "code",
   "execution_count": 16,
   "id": "2462baef-d5fe-4e67-9836-ca5f81eb8ca9",
   "metadata": {},
   "outputs": [
    {
     "name": "stderr",
     "output_type": "stream",
     "text": [
      "                                                                                \r"
     ]
    }
   ],
   "source": [
    "df = df.repartition(6)\n",
    "df.write.parquet('fhv_tripdata_october/')"
   ]
  },
  {
   "cell_type": "code",
   "execution_count": 17,
   "id": "276eccd9-c863-4948-9b54-a1e8c727a0b9",
   "metadata": {},
   "outputs": [],
   "source": [
    "df = spark.read.parquet('fhv_tripdata_october')"
   ]
  },
  {
   "cell_type": "code",
   "execution_count": 18,
   "id": "72f752f8-a3c5-4f6f-87fb-6d39387f0306",
   "metadata": {},
   "outputs": [
    {
     "name": "stdout",
     "output_type": "stream",
     "text": [
      "+--------------------+-------------------+-------------------+------------+------------+-------+----------------------+\n",
      "|dispatching_base_num|    pickup_datetime|   dropOff_datetime|PUlocationID|DOlocationID|SR_Flag|Affiliated_base_number|\n",
      "+--------------------+-------------------+-------------------+------------+------------+-------+----------------------+\n",
      "|              B03016|2019-10-02 16:00:16|2019-10-02 16:36:20|         264|         174|   NULL|                B02969|\n",
      "|              B03157|2019-10-01 18:23:49|2019-10-01 18:44:35|         264|         226|   NULL|                B03157|\n",
      "|              B00821|2019-10-03 11:35:41|2019-10-03 11:43:43|         264|          76|   NULL|                B02872|\n",
      "|              B02416|2019-10-02 10:37:00|2019-10-02 11:38:38|        NULL|        NULL|   NULL|                B02416|\n",
      "|              B01061|2019-10-01 08:53:23|2019-10-01 09:02:42|         264|         126|   NULL|                B01061|\n",
      "|              B01087|2019-10-03 03:41:51|2019-10-03 04:03:20|          39|         138|   NULL|                B01087|\n",
      "|              B02913|2019-10-01 20:12:35|2019-10-01 20:20:03|         264|          60|   NULL|                B02913|\n",
      "|              B01726|2019-10-01 22:14:29|2019-10-01 22:19:53|         264|         136|   NULL|                B01726|\n",
      "|              B03144|2019-10-02 10:26:56|2019-10-02 10:56:42|          61|          33|   NULL|                B03144|\n",
      "|              B00111|2019-10-02 08:12:01|2019-10-02 09:09:03|         264|         265|   NULL|                B00111|\n",
      "|              B03052|2019-10-01 09:07:57|2019-10-01 09:21:29|         264|          50|   NULL|                B03052|\n",
      "|              B00477|2019-10-02 22:21:23|2019-10-02 22:35:27|         229|          10|   NULL|                B00477|\n",
      "|              B01445|2019-10-01 09:28:00|2019-10-01 09:44:00|          22|         227|   NULL|                B01445|\n",
      "|              B01233|2019-10-02 10:08:29|2019-10-02 10:17:16|         264|           3|   NULL|                B01233|\n",
      "|              B02849|2019-10-02 10:07:35|2019-10-02 11:02:48|         264|         236|   NULL|                B02849|\n",
      "|              B00837|2019-10-01 00:18:56|2019-10-01 00:46:22|         264|         264|   NULL|                B00837|\n",
      "|     B01176         |2019-10-02 21:02:24|2019-10-02 21:15:14|          82|          56|   NULL|       B01176         |\n",
      "|              B01984|2019-10-01 23:23:00|2019-10-01 23:34:00|         264|          67|   NULL|                B01984|\n",
      "|              B02285|2019-10-03 07:00:00|2019-10-03 08:50:00|         264|         264|   NULL|                B02285|\n",
      "|              B01437|2019-10-01 14:06:31|2019-10-01 14:11:31|         264|         215|   NULL|                B02800|\n",
      "+--------------------+-------------------+-------------------+------------+------------+-------+----------------------+\n",
      "only showing top 20 rows\n",
      "\n"
     ]
    }
   ],
   "source": [
    "df.show()"
   ]
  },
  {
   "cell_type": "code",
   "execution_count": null,
   "id": "5a783c1c-d638-483d-9f5b-10dcc8338ce7",
   "metadata": {},
   "outputs": [],
   "source": []
  },
  {
   "cell_type": "code",
   "execution_count": null,
   "id": "b2137517-2f0a-4062-aee2-4d02b1ad76da",
   "metadata": {},
   "outputs": [],
   "source": []
  },
  {
   "cell_type": "code",
   "execution_count": null,
   "id": "a1db8bce-dbd7-46fe-829e-3d850a4112be",
   "metadata": {},
   "outputs": [],
   "source": []
  },
  {
   "cell_type": "code",
   "execution_count": 6,
   "id": "e8e8d39a-de1a-4062-aaac-707ee7d96040",
   "metadata": {},
   "outputs": [],
   "source": [
    "from pyspark.sql import types\n",
    "\n",
    "schema = types.StructType([\n",
    "        types.StructField('dispatching_base_num', types.StringType(),True), \n",
    "        types.StructField('pickup_datetime', types.TimestampType(), True),\n",
    "        types.StructField('dropOff_datetime', types.TimestampType(), True),\n",
    "        types.StructField('PUlocationID',types. IntegerType(), True),\n",
    "        types.StructField('DOlocationID',types. IntegerType(), True),\n",
    "        types.StructField('SR_Flag',types. StringType(), True),\n",
    "        types.StructField('Affiliated_base_number',types. StringType(), True)\n",
    "                          ])"
   ]
  },
  {
   "cell_type": "code",
   "execution_count": 33,
   "id": "bc062899-c8b6-4b5b-ac5a-cc51d2b8f382",
   "metadata": {},
   "outputs": [],
   "source": [
    "filtered_df = df.filter((df['pickup_datetime'] >= '2019-10-15 00:00:00') &\n",
    "                        (df['pickup_datetime'] <= '2019-10-15 23:59:59'))"
   ]
  },
  {
   "cell_type": "code",
   "execution_count": 34,
   "id": "aba26102-637c-488a-bc62-0ac199e6f9e2",
   "metadata": {},
   "outputs": [
    {
     "data": {
      "text/plain": [
       "62610"
      ]
     },
     "execution_count": 34,
     "metadata": {},
     "output_type": "execute_result"
    }
   ],
   "source": [
    "filtered_df.count()"
   ]
  },
  {
   "cell_type": "code",
   "execution_count": null,
   "id": "ba4c7494-2dd5-47a9-ac78-ed12ed0c5c80",
   "metadata": {},
   "outputs": [],
   "source": []
  },
  {
   "cell_type": "code",
   "execution_count": null,
   "id": "1c16eafa-7e40-4a31-9b06-4ed8427c7ca9",
   "metadata": {},
   "outputs": [],
   "source": []
  },
  {
   "cell_type": "code",
   "execution_count": null,
   "id": "7e80f236-7332-4aba-8987-1ac14b9866b5",
   "metadata": {},
   "outputs": [],
   "source": []
  },
  {
   "cell_type": "code",
   "execution_count": null,
   "id": "6ef35bcb-9743-44a2-9cbf-cd6f9bce0899",
   "metadata": {},
   "outputs": [],
   "source": []
  },
  {
   "cell_type": "code",
   "execution_count": 34,
   "id": "6ad8bace-1580-47c7-9157-ebf9c4f3a283",
   "metadata": {},
   "outputs": [],
   "source": [
    "df = spark.read \\\n",
    "    .option(\"header\", \"true\") \\\n",
    "    .schema(schema) \\\n",
    "    .csv('fhv_tripdata_2019-10.csv')\n",
    "\n",
    "# df = spark.read \\\n",
    "#     .option(\"header\", \"true\") \\\n",
    "#     .csv('fhv_tripdata_2019-10.csv')"
   ]
  },
  {
   "cell_type": "code",
   "execution_count": 47,
   "id": "e41e3233-bdc1-4fca-b69f-5c2efa48fd51",
   "metadata": {},
   "outputs": [
    {
     "name": "stdout",
     "output_type": "stream",
     "text": [
      "+--------------------+-------------------+-------------------+------------+------------+-------+----------------------+----------+----------+--------------------+\n",
      "|dispatching_base_num|    pickup_datetime|   dropOff_datetime|PUlocationID|DOlocationID|SR_Flag|Affiliated_base_number|start_unix|  end_unix|    duration_seconds|\n",
      "+--------------------+-------------------+-------------------+------------+------------+-------+----------------------+----------+----------+--------------------+\n",
      "|              B00009|2019-10-01 00:23:00|2019-10-01 00:35:00|         264|         264|   NULL|                B00009|1569914580|1569915300|INTERVAL '0 00:12...|\n",
      "|              B00013|2019-10-01 00:11:29|2019-10-01 00:13:22|         264|         264|   NULL|                B00013|1569913889|1569914002|INTERVAL '0 00:01...|\n",
      "|              B00014|2019-10-01 00:11:43|2019-10-01 00:37:20|         264|         264|   NULL|                B00014|1569913903|1569915440|INTERVAL '0 00:25...|\n",
      "|              B00014|2019-10-01 00:56:29|2019-10-01 00:57:47|         264|         264|   NULL|                B00014|1569916589|1569916667|INTERVAL '0 00:01...|\n",
      "|              B00014|2019-10-01 00:23:09|2019-10-01 00:28:27|         264|         264|   NULL|                B00014|1569914589|1569914907|INTERVAL '0 00:05...|\n",
      "|     B00021         |2019-10-01 00:00:48|2019-10-01 00:07:12|         129|         129|   NULL|       B00021         |1569913248|1569913632|INTERVAL '0 00:06...|\n",
      "|     B00021         |2019-10-01 00:47:23|2019-10-01 00:53:25|          57|          57|   NULL|       B00021         |1569916043|1569916405|INTERVAL '0 00:06...|\n",
      "|     B00021         |2019-10-01 00:10:06|2019-10-01 00:19:50|         173|         173|   NULL|       B00021         |1569913806|1569914390|INTERVAL '0 00:09...|\n",
      "|     B00021         |2019-10-01 00:51:37|2019-10-01 01:06:14|         226|         226|   NULL|       B00021         |1569916297|1569917174|INTERVAL '0 00:14...|\n",
      "|     B00021         |2019-10-01 00:28:23|2019-10-01 00:34:33|          56|          56|   NULL|       B00021         |1569914903|1569915273|INTERVAL '0 00:06...|\n",
      "|     B00021         |2019-10-01 00:31:17|2019-10-01 00:51:52|          82|          82|   NULL|       B00021         |1569915077|1569916312|INTERVAL '0 00:20...|\n",
      "|              B00037|2019-10-01 00:07:41|2019-10-01 00:15:23|         264|          71|   NULL|                B00037|1569913661|1569914123|INTERVAL '0 00:07...|\n",
      "|              B00037|2019-10-01 00:13:38|2019-10-01 00:25:51|         264|          39|   NULL|                B00037|1569914018|1569914751|INTERVAL '0 00:12...|\n",
      "|              B00037|2019-10-01 00:42:40|2019-10-01 00:53:47|         264|         188|   NULL|                B00037|1569915760|1569916427|INTERVAL '0 00:11...|\n",
      "|              B00037|2019-10-01 00:58:46|2019-10-01 01:10:11|         264|          91|   NULL|                B00037|1569916726|1569917411|INTERVAL '0 00:11...|\n",
      "|              B00037|2019-10-01 00:09:49|2019-10-01 00:14:37|         264|          71|   NULL|                B00037|1569913789|1569914077|INTERVAL '0 00:04...|\n",
      "|              B00037|2019-10-01 00:22:35|2019-10-01 00:36:53|         264|          35|   NULL|                B00037|1569914555|1569915413|INTERVAL '0 00:14...|\n",
      "|              B00037|2019-10-01 00:54:27|2019-10-01 01:03:37|         264|          61|   NULL|                B00037|1569916467|1569917017|INTERVAL '0 00:09...|\n",
      "|              B00037|2019-10-01 00:08:12|2019-10-01 00:28:47|         264|         198|   NULL|                B00037|1569913692|1569914927|INTERVAL '0 00:20...|\n",
      "|              B00053|2019-10-01 00:05:24|2019-10-01 00:53:03|         264|         264|   NULL|                  #N/A|1569913524|1569916383|INTERVAL '0 00:47...|\n",
      "+--------------------+-------------------+-------------------+------------+------------+-------+----------------------+----------+----------+--------------------+\n",
      "only showing top 20 rows\n",
      "\n",
      "+--------------------+-------------------+-------------------+------------+------------+-------+----------------------+----------+----------+--------------------+\n",
      "|dispatching_base_num|    pickup_datetime|   dropOff_datetime|PUlocationID|DOlocationID|SR_Flag|Affiliated_base_number|start_unix|  end_unix|    duration_seconds|\n",
      "+--------------------+-------------------+-------------------+------------+------------+-------+----------------------+----------+----------+--------------------+\n",
      "|              B00009|2019-10-01 00:23:00|2019-10-01 00:35:00|         264|         264|   NULL|                B00009|1569914580|1569915300|INTERVAL '0 00:12...|\n",
      "|              B00013|2019-10-01 00:11:29|2019-10-01 00:13:22|         264|         264|   NULL|                B00013|1569913889|1569914002|INTERVAL '0 00:01...|\n",
      "|              B00014|2019-10-01 00:11:43|2019-10-01 00:37:20|         264|         264|   NULL|                B00014|1569913903|1569915440|INTERVAL '0 00:25...|\n",
      "|              B00014|2019-10-01 00:56:29|2019-10-01 00:57:47|         264|         264|   NULL|                B00014|1569916589|1569916667|INTERVAL '0 00:01...|\n",
      "|              B00014|2019-10-01 00:23:09|2019-10-01 00:28:27|         264|         264|   NULL|                B00014|1569914589|1569914907|INTERVAL '0 00:05...|\n",
      "|     B00021         |2019-10-01 00:00:48|2019-10-01 00:07:12|         129|         129|   NULL|       B00021         |1569913248|1569913632|INTERVAL '0 00:06...|\n",
      "|     B00021         |2019-10-01 00:47:23|2019-10-01 00:53:25|          57|          57|   NULL|       B00021         |1569916043|1569916405|INTERVAL '0 00:06...|\n",
      "|     B00021         |2019-10-01 00:10:06|2019-10-01 00:19:50|         173|         173|   NULL|       B00021         |1569913806|1569914390|INTERVAL '0 00:09...|\n",
      "|     B00021         |2019-10-01 00:51:37|2019-10-01 01:06:14|         226|         226|   NULL|       B00021         |1569916297|1569917174|INTERVAL '0 00:14...|\n",
      "|     B00021         |2019-10-01 00:28:23|2019-10-01 00:34:33|          56|          56|   NULL|       B00021         |1569914903|1569915273|INTERVAL '0 00:06...|\n",
      "|     B00021         |2019-10-01 00:31:17|2019-10-01 00:51:52|          82|          82|   NULL|       B00021         |1569915077|1569916312|INTERVAL '0 00:20...|\n",
      "|              B00037|2019-10-01 00:07:41|2019-10-01 00:15:23|         264|          71|   NULL|                B00037|1569913661|1569914123|INTERVAL '0 00:07...|\n",
      "|              B00037|2019-10-01 00:13:38|2019-10-01 00:25:51|         264|          39|   NULL|                B00037|1569914018|1569914751|INTERVAL '0 00:12...|\n",
      "|              B00037|2019-10-01 00:42:40|2019-10-01 00:53:47|         264|         188|   NULL|                B00037|1569915760|1569916427|INTERVAL '0 00:11...|\n",
      "|              B00037|2019-10-01 00:58:46|2019-10-01 01:10:11|         264|          91|   NULL|                B00037|1569916726|1569917411|INTERVAL '0 00:11...|\n",
      "|              B00037|2019-10-01 00:09:49|2019-10-01 00:14:37|         264|          71|   NULL|                B00037|1569913789|1569914077|INTERVAL '0 00:04...|\n",
      "|              B00037|2019-10-01 00:22:35|2019-10-01 00:36:53|         264|          35|   NULL|                B00037|1569914555|1569915413|INTERVAL '0 00:14...|\n",
      "|              B00037|2019-10-01 00:54:27|2019-10-01 01:03:37|         264|          61|   NULL|                B00037|1569916467|1569917017|INTERVAL '0 00:09...|\n",
      "|              B00037|2019-10-01 00:08:12|2019-10-01 00:28:47|         264|         198|   NULL|                B00037|1569913692|1569914927|INTERVAL '0 00:20...|\n",
      "|              B00053|2019-10-01 00:05:24|2019-10-01 00:53:03|         264|         264|   NULL|                  #N/A|1569913524|1569916383|INTERVAL '0 00:47...|\n",
      "+--------------------+-------------------+-------------------+------------+------------+-------+----------------------+----------+----------+--------------------+\n",
      "only showing top 20 rows\n",
      "\n"
     ]
    },
    {
     "name": "stderr",
     "output_type": "stream",
     "text": [
      "                                                                                \r"
     ]
    },
    {
     "name": "stdout",
     "output_type": "stream",
     "text": [
      "           duration_seconds\n",
      "0       26298 days 00:30:00\n",
      "1       26298 days 00:30:00\n",
      "2        3653 days 00:26:27\n",
      "3        2922 days 00:01:41\n",
      "4         366 days 10:00:00\n",
      "...                     ...\n",
      "1897488     0 days 00:00:01\n",
      "1897489     0 days 00:00:01\n",
      "1897490     0 days 00:00:01\n",
      "1897491     0 days 00:00:01\n",
      "1897492     0 days 00:00:01\n",
      "\n",
      "[1897493 rows x 1 columns]\n"
     ]
    }
   ],
   "source": [
    "from pyspark.sql.functions import col, unix_timestamp\n",
    "\n",
    "# Assuming your DataFrame is named 'df' and you have columns 'start' and 'end'\n",
    "\n",
    "# Convert timestamp columns to Unix timestamps (in seconds)\n",
    "df = df.withColumn(\"start_unix\", unix_timestamp(col(\"pickup_datetime\")))\n",
    "df.show()\n",
    "\n",
    "df = df.withColumn(\"end_unix\", unix_timestamp(col(\"dropOff_datetime\")))\n",
    "df.show()\n",
    "\n",
    "# Calculate the difference between end and start timestamps\n",
    "df = df.withColumn(\"duration_seconds\", col(\"dropOff_datetime\") - col(\"pickup_datetime\"))\n",
    "\n",
    "# Find the maximum duration\n",
    "# max_duration = df.agg({\"duration_seconds\": \"max\"}).collect()[0][0]\n",
    "\n",
    "# # Display the maximum duration\n",
    "# print(\"Maximum duration (seconds):\", max_duration)\n",
    "\n",
    "# df.show()\n",
    "\n",
    "# count_df = df.groupBy(\"PUlocationID\").count()\n",
    "count_df = df.orderBy(col('duration_seconds').desc())\n",
    "pandas_df = count_df.select('duration_seconds').toPandas()\n",
    "\n",
    "print(pandas_df)\n",
    "\n",
    "# df_with_duration.printSchema()"
   ]
  },
  {
   "cell_type": "code",
   "execution_count": null,
   "id": "0017b5df-a84c-43d2-95ce-9999d260f12c",
   "metadata": {},
   "outputs": [],
   "source": []
  },
  {
   "cell_type": "code",
   "execution_count": null,
   "id": "8dcbcaf1-4278-40e5-876f-572c9e761d26",
   "metadata": {},
   "outputs": [],
   "source": []
  },
  {
   "cell_type": "code",
   "execution_count": null,
   "id": "8c5ba1dc-4958-4f91-83d8-17a11c799c6b",
   "metadata": {},
   "outputs": [],
   "source": []
  },
  {
   "cell_type": "code",
   "execution_count": null,
   "id": "477fb8d1-e14e-484a-92c8-c219769c13a4",
   "metadata": {},
   "outputs": [],
   "source": []
  },
  {
   "cell_type": "code",
   "execution_count": 19,
   "id": "0e56ea83-1ad9-49cb-a896-754af10ab314",
   "metadata": {},
   "outputs": [
    {
     "name": "stderr",
     "output_type": "stream",
     "text": [
      "                                                                                \r"
     ]
    }
   ],
   "source": [
    "df = spark.read \\\n",
    "    .option(\"header\", \"true\") \\\n",
    "    .csv('fhv_tripdata_2019-10.csv')"
   ]
  },
  {
   "cell_type": "code",
   "execution_count": 29,
   "id": "80381c6b-9ebe-4fab-8ed1-131d113ce422",
   "metadata": {},
   "outputs": [
    {
     "name": "stderr",
     "output_type": "stream",
     "text": [
      "[Stage 33:====>                                                   (1 + 11) / 12]\r"
     ]
    },
    {
     "name": "stdout",
     "output_type": "stream",
     "text": [
      "+------------+-----+\n",
      "|PUlocationID|count|\n",
      "+------------+-----+\n",
      "|           2|    1|\n",
      "|         105|    2|\n",
      "|         111|    5|\n",
      "|          30|    8|\n",
      "|         120|   14|\n",
      "|          12|   15|\n",
      "|         207|   23|\n",
      "|          27|   25|\n",
      "|         154|   26|\n",
      "|           8|   29|\n",
      "|         128|   39|\n",
      "|         253|   47|\n",
      "|          96|   53|\n",
      "|          34|   57|\n",
      "|          59|   62|\n",
      "|          58|   77|\n",
      "|          99|   89|\n",
      "|         190|   98|\n",
      "|          54|  105|\n",
      "|         217|  110|\n",
      "+------------+-----+\n",
      "only showing top 20 rows\n",
      "\n"
     ]
    },
    {
     "name": "stderr",
     "output_type": "stream",
     "text": [
      "                                                                                \r"
     ]
    }
   ],
   "source": [
    "from pyspark.sql.functions import col\n",
    "\n",
    "# Assuming your DataFrame is named 'df' and the column is named 'number_column'\n",
    "\n",
    "# Group by the 'number_column' and count the number of occurrences of each value\n",
    "count_df = df.groupBy(\"PUlocationID\").count()\n",
    "count_df = count_df.orderBy(col('count'))\n",
    "count_df.show()\n",
    "# Find the least counted number\n",
    "# least_counted_number = count_df.orderBy(\"count\").first()[\"PUlocationID\"]\n",
    "\n",
    "# Display the least counted number\n",
    "# print(\"Least counted number:\", least_counted_number)\n"
   ]
  },
  {
   "cell_type": "code",
   "execution_count": null,
   "id": "405c6de9-3399-4b62-844e-0f192fe19a34",
   "metadata": {},
   "outputs": [],
   "source": []
  },
  {
   "cell_type": "code",
   "execution_count": null,
   "id": "4ca5fcbf-9cbf-44eb-b888-22af0719c32f",
   "metadata": {},
   "outputs": [],
   "source": []
  },
  {
   "cell_type": "code",
   "execution_count": null,
   "id": "d00c764b-f137-4fab-8237-a1d5dfeadc5d",
   "metadata": {},
   "outputs": [],
   "source": []
  },
  {
   "cell_type": "code",
   "execution_count": null,
   "id": "6c5a52ac-8f5c-4dc4-98dd-dce2c12a4ae5",
   "metadata": {},
   "outputs": [],
   "source": []
  },
  {
   "cell_type": "code",
   "execution_count": null,
   "id": "628c7c6c-7fc9-431d-bce5-689094434d0a",
   "metadata": {},
   "outputs": [],
   "source": []
  },
  {
   "cell_type": "code",
   "execution_count": null,
   "id": "da8d2ad9-c5bd-4cf0-9e1c-a6b10417ffe5",
   "metadata": {},
   "outputs": [],
   "source": [
    "# Following may needs kernel restart "
   ]
  },
  {
   "cell_type": "code",
   "execution_count": 7,
   "id": "203b80f4-eebe-4746-bc3e-4720c29a1bd1",
   "metadata": {},
   "outputs": [
    {
     "name": "stderr",
     "output_type": "stream",
     "text": [
      "                                                                                \r"
     ]
    },
    {
     "name": "stdout",
     "output_type": "stream",
     "text": [
      "+-----+---------------+----------+---------+--------------------+-----------------+--------------------+--------------------+--------------------+--------------------+-----------------+--------------------+\n",
      "|Index|    Customer Id|First Name|Last Name|             Company|             City|             Country|             Phone 1|             Phone 2|               Email|Subscription Date|             Website|\n",
      "+-----+---------------+----------+---------+--------------------+-----------------+--------------------+--------------------+--------------------+--------------------+-----------------+--------------------+\n",
      "|    1|DD37Cf93aecA6Dc|    Sheryl|   Baxter|     Rasmussen Group|     East Leonard|               Chile|        229.077.5154|    397.884.0519x718|zunigavanessa@smi...|       2020-08-24|http://www.stephe...|\n",
      "|    2|1Ef7b82A4CAAD10|   Preston|   Lozano|         Vega-Gentry|East Jimmychester|            Djibouti|          5153435776|    686-620-1820x944|     vmata@colon.com|       2021-04-23|http://www.hobbs....|\n",
      "|    3|6F94879bDAfE5a6|       Roy|    Berry|       Murillo-Perry|    Isabelborough| Antigua and Barbuda|     +1-539-402-0259| (496)978-3969x58947| beckycarr@hogan.com|       2020-03-25|http://www.lawren...|\n",
      "|    4|5Cef8BFA16c5e3c|     Linda|    Olsen|Dominguez, Mcmill...|       Bensonview|  Dominican Republic|001-808-617-6467x...|     +1-813-324-8756|stanleyblackwell@...|       2020-06-02|http://www.good-l...|\n",
      "|    5|053d585Ab6b3159|    Joanna|   Bender|Martin, Lang and ...|   West Priscilla|Slovakia (Slovak ...|001-234-203-0635x...|001-199-446-3860x...|colinalvarado@mil...|       2021-04-17|https://goodwin-i...|\n",
      "|    6|2d08FB17EE273F4|     Aimee|    Downs|        Steele Group|    Chavezborough|Bosnia and Herzeg...| (283)437-3886x88321|        999-728-1637| louis27@gilbert.com|       2020-02-25|http://www.berger...|\n",
      "|    7|EA4d384DfDbBf77|    Darren|     Peck|Lester, Woodard a...|         Lake Ana|    Pitcairn Islands|  (496)452-6181x3291|+1-247-266-0963x4995| tgates@cantrell.com|       2021-08-24| https://www.le.com/|\n",
      "|    8|0e04AFde9f225dE|     Brett|   Mullen|Sanford, Davenpor...|          Kimport|            Bulgaria|001-583-352-7197x297|    001-333-145-0369|     asnow@colon.com|       2021-04-12|https://hammond-r...|\n",
      "|    9|C2dE4dEEc489ae0|    Sheryl|   Meyers|      Browning-Simon|     Robersonstad|              Cyprus|   854-138-4911x5772| +1-448-910-2276x729|mariokhan@ryan-po...|       2020-01-13|https://www.bullo...|\n",
      "|   10|8C2811a503C7c5a|  Michelle|Gallagher|        Beck-Hendrix|       Elaineberg|         Timor-Leste|    739.218.2516x459|001-054-401-0347x617|   mdyer@escobar.net|       2021-11-08|  https://arias.com/|\n",
      "|   11|216E205d6eBb815|      Carl|Schroeder|Oconnell, Meza an...|     Shannonville|            Guernsey|    637-854-0256x825|    114.336.0784x788|  kirksalas@webb.com|       2021-10-20|https://simmons-h...|\n",
      "|   12|CEDec94deE6d69B|     Jenna|   Dodson|Hoffman, Reed and...|      East Andrea|             Vietnam|       (041)737-3846|+1-556-888-3485x4...|  mark42@robbins.com|       2020-11-29|http://www.dougla...|\n",
      "|   13|e35426EbDEceaFF|    Tracey|     Mata|      Graham-Francis|South Joannamouth|                Togo|    001-949-844-8787|       (855)713-8773|    alex56@walls.org|       2021-12-02|http://www.beck.com/|\n",
      "|   14|A08A8aF8BE9FaD4|  Kristine|      Cox|      Carpenter-Cook|         Jodyberg|           Sri Lanka|  786-284-3358x62152|+1-315-627-1796x8074|holdenmiranda@cla...|       2021-02-08|https://www.brand...|\n",
      "|   15|6fEaA1b7cab7B6C|     Faith|     Lutz|      Carter-Hancock|        Burchbury|           Singapore|  (781)861-7180x8306|        207-185-3665|cassieparrish@ble...|       2022-01-26|http://stevenson....|\n",
      "|   16|8cad0b4CBceaeec|   Miranda|  Beasley|  Singleton and Sons|     Desireeshire|                Oman|    540.085.3135x185|+1-600-462-6432x2...|vduncan@parks-har...|       2022-04-12|  http://acosta.org/|\n",
      "|   17|a5DC21AE3a21eaA|  Caroline|    Foley|     Winters-Mendoza|West Adriennestad|      Western Sahara|   936.222.4746x9924|001-469-948-6341x359|holtgwendolyn@wat...|       2021-03-10|http://www.benson...|\n",
      "|   18|F8Aa9d6DfcBeeF8|      Greg|     Mata|       Valentine LLC|      Lake Leslie|          Mozambique|       (701)087-2415| (195)156-1861x26241|jaredjuarez@carro...|       2022-03-26|http://pitts-cher...|\n",
      "|   19|F160f5Db3EfE973|  Clifford| Jacobson|           Simon LLC|       Harmonview|South Georgia and...|001-151-330-3524x...|       (748)477-7174|joseph26@jacobson...|       2020-09-24|https://mcconnell...|\n",
      "|   20|0F60FF3DdCd7aB0|    Joanna|     Kirk|      Mays-Mccormick|       Jamesshire|    French Polynesia|   (266)131-7001x711| (283)312-5579x11543|tuckerangie@salaz...|       2021-09-24|https://www.camac...|\n",
      "+-----+---------------+----------+---------+--------------------+-----------------+--------------------+--------------------+--------------------+--------------------+-----------------+--------------------+\n",
      "only showing top 20 rows\n",
      "\n"
     ]
    }
   ],
   "source": [
    "import pandas as pd\n",
    "\n",
    "df_pandas = pd.read_csv('customers-100.csv')\n",
    "\n",
    "spark.createDataFrame(df_pandas).show()"
   ]
  },
  {
   "cell_type": "code",
   "execution_count": 9,
   "id": "fe0b931e-04b0-4b08-8b3f-89d12cb52b55",
   "metadata": {},
   "outputs": [
    {
     "data": {
      "text/plain": [
       "StructType([StructField('Index', LongType(), True), StructField('Customer Id', StringType(), True), StructField('First Name', StringType(), True), StructField('Last Name', StringType(), True), StructField('Company', StringType(), True), StructField('City', StringType(), True), StructField('Country', StringType(), True), StructField('Phone 1', StringType(), True), StructField('Phone 2', StringType(), True), StructField('Email', StringType(), True), StructField('Subscription Date', StringType(), True), StructField('Website', StringType(), True)])"
      ]
     },
     "execution_count": 9,
     "metadata": {},
     "output_type": "execute_result"
    }
   ],
   "source": [
    "spark.createDataFrame(df_pandas).schema"
   ]
  },
  {
   "cell_type": "code",
   "execution_count": 5,
   "id": "a7213b94-577a-4a9c-b2a0-7406951d6cea",
   "metadata": {},
   "outputs": [],
   "source": [
    "from pyspark.sql import types"
   ]
  },
  {
   "cell_type": "code",
   "execution_count": 16,
   "id": "346fcd25-b1b2-47ba-8d39-eb6990f11793",
   "metadata": {},
   "outputs": [],
   "source": [
    "schema = types.StructType([\n",
    "        types.StructField('Index', types.LongType(),True), \n",
    "        types.StructField('Customer Id', types.StringType(), True),\n",
    "        types.StructField('First Name', types.StringType(), True),\n",
    "        types.StructField('Last Name',types. StringType(), True),\n",
    "        types.StructField('Company', types.StringType(), True),\n",
    "        types.StructField('City', types.StringType(), True),\n",
    "        types.StructField('Country', types.StringType(), True),\n",
    "        types.StructField('Phone 1', types.StringType(), True),\n",
    "        types.StructField('Phone 2', types.StringType(), True),\n",
    "        types.StructField('Email', types.StringType(), True),\n",
    "        types.StructField('Subscription Date', types.StringType(), True),\n",
    "        types.StructField('Website', types.StringType(), True)\n",
    "                          ])"
   ]
  },
  {
   "cell_type": "code",
   "execution_count": 43,
   "id": "f42ea124-e743-4308-8a96-11b8aab8e371",
   "metadata": {},
   "outputs": [],
   "source": [
    "df = spark.read \\\n",
    "    .option(\"header\", \"true\") \\\n",
    "    .schema(schema) \\\n",
    "    .parquet('fhv_tripdata_october')"
   ]
  },
  {
   "cell_type": "code",
   "execution_count": 19,
   "id": "3bcd193d-69dc-4bec-8f5d-25fc5efbdd07",
   "metadata": {},
   "outputs": [
    {
     "data": {
      "text/plain": [
       "[Row(Index=1, Customer Id='DD37Cf93aecA6Dc', First Name='Sheryl', Last Name='Baxter', Company='Rasmussen Group', City='East Leonard', Country='Chile', Phone 1='229.077.5154', Phone 2='397.884.0519x718', Email='zunigavanessa@smith.info', Subscription Date='2020-08-24', Website='http://www.stephenson.com/')]"
      ]
     },
     "execution_count": 19,
     "metadata": {},
     "output_type": "execute_result"
    }
   ],
   "source": [
    "df.head(1)"
   ]
  },
  {
   "cell_type": "code",
   "execution_count": 20,
   "id": "d0f29503-9142-4203-9334-dd3f1b063744",
   "metadata": {},
   "outputs": [],
   "source": [
    "df = df.repartition(24)"
   ]
  },
  {
   "cell_type": "code",
   "execution_count": 21,
   "id": "069bc04f-04ce-4b96-833b-db1c7c02a765",
   "metadata": {},
   "outputs": [
    {
     "name": "stderr",
     "output_type": "stream",
     "text": [
      "24/02/29 00:11:46 WARN MemoryManager: Total allocation exceeds 95.00% (1,020,054,720 bytes) of heap memory\n",
      "Scaling row group sizes to 95.00% for 8 writers\n",
      "24/02/29 00:11:46 WARN MemoryManager: Total allocation exceeds 95.00% (1,020,054,720 bytes) of heap memory\n",
      "Scaling row group sizes to 84.44% for 9 writers\n",
      "24/02/29 00:11:46 WARN MemoryManager: Total allocation exceeds 95.00% (1,020,054,720 bytes) of heap memory\n",
      "Scaling row group sizes to 76.00% for 10 writers\n",
      "24/02/29 00:11:46 WARN MemoryManager: Total allocation exceeds 95.00% (1,020,054,720 bytes) of heap memory\n",
      "Scaling row group sizes to 69.09% for 11 writers\n",
      "24/02/29 00:11:46 WARN MemoryManager: Total allocation exceeds 95.00% (1,020,054,720 bytes) of heap memory\n",
      "Scaling row group sizes to 63.33% for 12 writers\n",
      "24/02/29 00:11:47 WARN MemoryManager: Total allocation exceeds 95.00% (1,020,054,720 bytes) of heap memory\n",
      "Scaling row group sizes to 69.09% for 11 writers\n",
      "24/02/29 00:11:47 WARN MemoryManager: Total allocation exceeds 95.00% (1,020,054,720 bytes) of heap memory\n",
      "Scaling row group sizes to 76.00% for 10 writers\n",
      "24/02/29 00:11:47 WARN MemoryManager: Total allocation exceeds 95.00% (1,020,054,720 bytes) of heap memory\n",
      "Scaling row group sizes to 84.44% for 9 writers\n",
      "24/02/29 00:11:47 WARN MemoryManager: Total allocation exceeds 95.00% (1,020,054,720 bytes) of heap memory\n",
      "Scaling row group sizes to 95.00% for 8 writers\n",
      "                                                                                \r"
     ]
    }
   ],
   "source": [
    "df.write.parquet('customers/')"
   ]
  },
  {
   "cell_type": "code",
   "execution_count": 7,
   "id": "0d7fbec5-8f7d-46c0-b9b5-8a9a50bb5310",
   "metadata": {},
   "outputs": [
    {
     "name": "stderr",
     "output_type": "stream",
     "text": [
      "                                                                                \r"
     ]
    }
   ],
   "source": [
    "df = spark.read.parquet('customers')"
   ]
  },
  {
   "cell_type": "code",
   "execution_count": 8,
   "id": "a075f639-4001-48e7-91a3-846719535d14",
   "metadata": {},
   "outputs": [
    {
     "data": {
      "text/plain": [
       "DataFrame[Index: bigint, Customer Id: string, First Name: string, Last Name: string, Company: string, City: string, Country: string, Phone 1: string, Phone 2: string, Email: string, Subscription Date: string, Website: string]"
      ]
     },
     "execution_count": 8,
     "metadata": {},
     "output_type": "execute_result"
    }
   ],
   "source": [
    "df"
   ]
  },
  {
   "cell_type": "code",
   "execution_count": 9,
   "id": "c0809972-80cc-4468-9de8-cd1416fcc468",
   "metadata": {},
   "outputs": [
    {
     "name": "stderr",
     "output_type": "stream",
     "text": [
      "                                                                                \r"
     ]
    },
    {
     "name": "stdout",
     "output_type": "stream",
     "text": [
      "+-----+---------------+----------+---------+--------------------+-------------------+--------------------+--------------------+--------------------+--------------------+-----------------+--------------------+\n",
      "|Index|    Customer Id|First Name|Last Name|             Company|               City|             Country|             Phone 1|             Phone 2|               Email|Subscription Date|             Website|\n",
      "+-----+---------------+----------+---------+--------------------+-------------------+--------------------+--------------------+--------------------+--------------------+-----------------+--------------------+\n",
      "|   27|aBdfcF2c50b0bfD|    Dakota|    Poole|       Simmons Group|       Michealshire|             Belarus|  (371)987-8576x4720|        071-152-1376| stacey67@fields.org|       2022-02-20|https://sanford-w...|\n",
      "|   87|ebe77E5Bf9476CE|     Duane|    Woods|      Montoya-Miller|          Lyonsberg|            Maldives|  (636)544-7783x7288|  (203)287-1003x5932|  kmercer@wagner.com|       2020-07-21|  http://murray.org/|\n",
      "|   94|54B5B5Fe9F1B6C5|    Sherry|    Young|Lee, Lucero and J...|       Frankchester|     Solomon Islands|        158-687-1764|   (438)375-6207x003|alan79@gates-mcla...|       2021-04-04| https://travis.net/|\n",
      "|   58|B5acdFC982124F2|     Danny|  Parrish|           Novak LLC|     East Jaredbury|United Arab Emirates|  (669)384-8597x8794|    506.731.5952x571|howelldarren@hous...|       2021-03-17|http://www.parson...|\n",
      "|    3|6F94879bDAfE5a6|       Roy|    Berry|       Murillo-Perry|      Isabelborough| Antigua and Barbuda|     +1-539-402-0259| (496)978-3969x58947| beckycarr@hogan.com|       2020-03-25|http://www.lawren...|\n",
      "|   54|c09952De6Cda8aA|    Stacie|  Richard|            Byrd Inc|        New Deborah|          Madagascar|001-622-948-3641x...|001-731-168-2893x...|clinton85@colon-a...|       2020-10-15|    https://kim.com/|\n",
      "|   35|aA9BAFfBc3710fe|     Faith|     Moon|Waters, Chase and...|   West Marthaburgh|             Bahamas|+1-586-217-0359x6317|     +1-818-199-1403|willistonya@rando...|       2021-11-03|https://spencer-c...|\n",
      "|   92|98b3aeDcC3B9FF3|     Shane|    Foley|          Rocha-Hart|   South Dannymouth|             Hungary|     +1-822-569-0302|001-626-114-5844x...|  nsteele@sparks.com|       2021-07-06|https://www.holt-...|\n",
      "|   13|e35426EbDEceaFF|    Tracey|     Mata|      Graham-Francis|  South Joannamouth|                Togo|    001-949-844-8787|       (855)713-8773|    alex56@walls.org|       2021-12-02|http://www.beck.com/|\n",
      "|   20|0F60FF3DdCd7aB0|    Joanna|     Kirk|      Mays-Mccormick|         Jamesshire|    French Polynesia|   (266)131-7001x711| (283)312-5579x11543|tuckerangie@salaz...|       2021-09-24|https://www.camac...|\n",
      "|   68|a014Ec1b9FccC1E|       Tom| Alvarado| Donaldson-Dougherty|   South Sophiaberg|            Kiribati|  (585)606-2980x2258|   730-797-3594x5614|nicholsonnina@mon...|       2020-08-18|http://odom-masse...|\n",
      "|   30|EDA69ca7a6e96a2|      Kent| Bradshaw|          Sawyer PLC|       North Harold|            Tanzania| +1-472-143-5037x884|        126.922.6153|   qjimenez@boyd.com|       2020-04-26|http://maynard-ho...|\n",
      "|   10|8C2811a503C7c5a|  Michelle|Gallagher|        Beck-Hendrix|         Elaineberg|         Timor-Leste|    739.218.2516x459|001-054-401-0347x617|   mdyer@escobar.net|       2021-11-08|  https://arias.com/|\n",
      "|   77|BF6a1f9bd1bf8DE|  Brittany|   Zuniga|        Mason-Hester|      West Reginald|     Kyrgyz Republic|       (050)136-9025|001-480-851-2496x...|mchandler@cochran...|       2021-07-24|http://www.boyle....|\n",
      "|   26|09D7D7C8Fe09aea|    Marcus|    Moody|           Giles Ltd|        Kaitlyntown|              Panama|        674-677-8623|    909-277-5485x566|donnamullins@norr...|       2022-05-24|https://www.curry...|\n",
      "|   59|8c7DdF10798bCC3|     Kathy|     Hill|Moore, Mccoy and ...|         Selenabury|South Georgia and...|001-171-716-2175x310|        888.625.0654|ncamacho@boone-si...|       2020-11-15|  http://hayden.com/|\n",
      "|   43|7E441b6B228DBcA|     Wayne|  Simpson|     Perkins-Trevino|East Rebekahborough|             Bolivia|  (344)156-8632x1869|  463-445-3702x38463|barbarapittman@ho...|       2020-12-13|https://gillespie...|\n",
      "|   63|aEcbe5365BbC67D|     Eddie|  Jimenez|      Caldwell Group|      West Kristine|            Ethiopia|+1-235-657-1073x6306|  (026)401-7353x2417|kristiwhitney@ber...|       2022-03-24|  http://cherry.com/|\n",
      "|   65|636cBF0835E10ff|    Eileen|    Lynch|Knight, Abbott an...|       Helenborough|             Liberia|+1-158-951-4131x5...|001-673-779-6713x680|levigiles@vincent...|       2021-01-02|   http://mckay.com/|\n",
      "|   80|A7F85c1DE4dB87f| Alejandro|    Blair|Combs, Waller and...|         Thomasland|             Iceland| (690)068-4641x51468|   555.509.8691x2329|elizabethbarr@ewi...|       2020-09-19|https://mercado-b...|\n",
      "+-----+---------------+----------+---------+--------------------+-------------------+--------------------+--------------------+--------------------+--------------------+-----------------+--------------------+\n",
      "only showing top 20 rows\n",
      "\n"
     ]
    }
   ],
   "source": [
    "df.show()"
   ]
  },
  {
   "cell_type": "code",
   "execution_count": 10,
   "id": "0a2ec835-c93c-4213-b203-07c0d892ef6a",
   "metadata": {},
   "outputs": [
    {
     "name": "stdout",
     "output_type": "stream",
     "text": [
      "root\n",
      " |-- Index: long (nullable = true)\n",
      " |-- Customer Id: string (nullable = true)\n",
      " |-- First Name: string (nullable = true)\n",
      " |-- Last Name: string (nullable = true)\n",
      " |-- Company: string (nullable = true)\n",
      " |-- City: string (nullable = true)\n",
      " |-- Country: string (nullable = true)\n",
      " |-- Phone 1: string (nullable = true)\n",
      " |-- Phone 2: string (nullable = true)\n",
      " |-- Email: string (nullable = true)\n",
      " |-- Subscription Date: string (nullable = true)\n",
      " |-- Website: string (nullable = true)\n",
      "\n"
     ]
    }
   ],
   "source": [
    "df.printSchema()"
   ]
  },
  {
   "cell_type": "code",
   "execution_count": 21,
   "id": "d58571f5-df9a-4264-9c60-2a07864854df",
   "metadata": {},
   "outputs": [
    {
     "ename": "SyntaxError",
     "evalue": "invalid syntax (2531532772.py, line 1)",
     "output_type": "error",
     "traceback": [
      "\u001b[0;36m  Cell \u001b[0;32mIn[21], line 1\u001b[0;36m\u001b[0m\n\u001b[0;31m    df.select('First Name', 'last Name').filter(df.\"Customer Id\" == 2)\u001b[0m\n\u001b[0m                                                   ^\u001b[0m\n\u001b[0;31mSyntaxError\u001b[0m\u001b[0;31m:\u001b[0m invalid syntax\n"
     ]
    }
   ],
   "source": [
    "df.select('First Name', 'last Name').filter(df.\"Customer Id\" == 2)"
   ]
  },
  {
   "cell_type": "code",
   "execution_count": 16,
   "id": "83283772-2fc8-49d2-b5e8-c17145c629ac",
   "metadata": {},
   "outputs": [
    {
     "name": "stdout",
     "output_type": "stream",
     "text": [
      "+-----+---------------+----------+---------+-------------+------------+-------+------------------+------------+-------------------+-----------------+--------------------+\n",
      "|Index|    Customer Id|First Name|Last Name|      Company|        City|Country|           Phone 1|     Phone 2|              Email|Subscription Date|             Website|\n",
      "+-----+---------------+----------+---------+-------------+------------+-------+------------------+------------+-------------------+-----------------+--------------------+\n",
      "|   27|aBdfcF2c50b0bfD|    Dakota|    Poole|Simmons Group|Michealshire|Belarus|(371)987-8576x4720|071-152-1376|stacey67@fields.org|       2022-02-20|https://sanford-w...|\n",
      "+-----+---------------+----------+---------+-------------+------------+-------+------------------+------------+-------------------+-----------------+--------------------+\n",
      "only showing top 1 row\n",
      "\n"
     ]
    }
   ],
   "source": [
    "df.show(1)"
   ]
  },
  {
   "cell_type": "code",
   "execution_count": 1,
   "id": "305078fc-e544-4c9b-9ece-5653c6ddb302",
   "metadata": {},
   "outputs": [
    {
     "ename": "NameError",
     "evalue": "name 'spark' is not defined",
     "output_type": "error",
     "traceback": [
      "\u001b[0;31m---------------------------------------------------------------------------\u001b[0m",
      "\u001b[0;31mNameError\u001b[0m                                 Traceback (most recent call last)",
      "Cell \u001b[0;32mIn[1], line 1\u001b[0m\n\u001b[0;32m----> 1\u001b[0m \u001b[43mspark\u001b[49m\u001b[38;5;241m.\u001b[39mversion\n",
      "\u001b[0;31mNameError\u001b[0m: name 'spark' is not defined"
     ]
    }
   ],
   "source": [
    "spark.version"
   ]
  }
 ],
 "metadata": {
  "kernelspec": {
   "display_name": "Python 3 (ipykernel)",
   "language": "python",
   "name": "python3"
  },
  "language_info": {
   "codemirror_mode": {
    "name": "ipython",
    "version": 3
   },
   "file_extension": ".py",
   "mimetype": "text/x-python",
   "name": "python",
   "nbconvert_exporter": "python",
   "pygments_lexer": "ipython3",
   "version": "3.11.4"
  }
 },
 "nbformat": 4,
 "nbformat_minor": 5
}
