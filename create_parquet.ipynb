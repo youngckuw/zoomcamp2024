{
 "cells": [
  {
   "cell_type": "code",
   "execution_count": 4,
   "id": "50f3d094-abef-43cf-a863-087d32d7daff",
   "metadata": {},
   "outputs": [],
   "source": [
    "import pyspark"
   ]
  },
  {
   "cell_type": "code",
   "execution_count": 5,
   "id": "5b8f56e3-0ccd-4207-a398-07a517c8100b",
   "metadata": {},
   "outputs": [],
   "source": [
    "from pyspark.sql import SparkSession"
   ]
  },
  {
   "cell_type": "code",
   "execution_count": 6,
   "id": "9b366350-74a0-413b-a758-1f8cfb637ae5",
   "metadata": {},
   "outputs": [
    {
     "name": "stderr",
     "output_type": "stream",
     "text": [
      "Setting default log level to \"WARN\".\n",
      "To adjust logging level use sc.setLogLevel(newLevel). For SparkR, use setLogLevel(newLevel).\n",
      "24/03/05 21:12:58 WARN NativeCodeLoader: Unable to load native-hadoop library for your platform... using builtin-java classes where applicable\n"
     ]
    }
   ],
   "source": [
    "spark = SparkSession.builder \\\n",
    "    .master(\"local[*]\") \\\n",
    "    .appName('test') \\\n",
    "    .getOrCreate()"
   ]
  },
  {
   "cell_type": "code",
   "execution_count": 7,
   "id": "925871a3-7842-4ddb-b5f6-0798161b317a",
   "metadata": {},
   "outputs": [
    {
     "data": {
      "text/plain": [
       "'3.5.1'"
      ]
     },
     "execution_count": 7,
     "metadata": {},
     "output_type": "execute_result"
    }
   ],
   "source": [
    "spark.version"
   ]
  },
  {
   "cell_type": "code",
   "execution_count": 13,
   "id": "13c84d14-4b59-4675-bd16-686ab7f6576b",
   "metadata": {},
   "outputs": [],
   "source": [
    "df = spark.read \\\n",
    "    .option(\"header\", \"true\") \\\n",
    "    .csv('fhv_tripdata_2019-10.csv')"
   ]
  },
  {
   "cell_type": "code",
   "execution_count": 15,
   "id": "6c9d276d-8559-4e06-91d1-6a9d86b730dc",
   "metadata": {},
   "outputs": [
    {
     "name": "stdout",
     "output_type": "stream",
     "text": [
      "root\n",
      " |-- dispatching_base_num: string (nullable = true)\n",
      " |-- pickup_datetime: string (nullable = true)\n",
      " |-- dropOff_datetime: string (nullable = true)\n",
      " |-- PUlocationID: string (nullable = true)\n",
      " |-- DOlocationID: string (nullable = true)\n",
      " |-- SR_Flag: string (nullable = true)\n",
      " |-- Affiliated_base_number: string (nullable = true)\n",
      "\n"
     ]
    }
   ],
   "source": [
    "df.printSchema()"
   ]
  },
  {
   "cell_type": "code",
   "execution_count": 16,
   "id": "2462baef-d5fe-4e67-9836-ca5f81eb8ca9",
   "metadata": {},
   "outputs": [
    {
     "name": "stderr",
     "output_type": "stream",
     "text": [
      "                                                                                \r"
     ]
    }
   ],
   "source": [
    "df = df.repartition(6)\n",
    "df.write.parquet('fhv_tripdata_october/')"
   ]
  },
  {
   "cell_type": "code",
   "execution_count": null,
   "id": "276eccd9-c863-4948-9b54-a1e8c727a0b9",
   "metadata": {},
   "outputs": [],
   "source": []
  },
  {
   "cell_type": "code",
   "execution_count": null,
   "id": "da8d2ad9-c5bd-4cf0-9e1c-a6b10417ffe5",
   "metadata": {},
   "outputs": [],
   "source": [
    "# Following may needs kernel restart "
   ]
  },
  {
   "cell_type": "code",
   "execution_count": 7,
   "id": "203b80f4-eebe-4746-bc3e-4720c29a1bd1",
   "metadata": {},
   "outputs": [
    {
     "name": "stderr",
     "output_type": "stream",
     "text": [
      "                                                                                \r"
     ]
    },
    {
     "name": "stdout",
     "output_type": "stream",
     "text": [
      "+-----+---------------+----------+---------+--------------------+-----------------+--------------------+--------------------+--------------------+--------------------+-----------------+--------------------+\n",
      "|Index|    Customer Id|First Name|Last Name|             Company|             City|             Country|             Phone 1|             Phone 2|               Email|Subscription Date|             Website|\n",
      "+-----+---------------+----------+---------+--------------------+-----------------+--------------------+--------------------+--------------------+--------------------+-----------------+--------------------+\n",
      "|    1|DD37Cf93aecA6Dc|    Sheryl|   Baxter|     Rasmussen Group|     East Leonard|               Chile|        229.077.5154|    397.884.0519x718|zunigavanessa@smi...|       2020-08-24|http://www.stephe...|\n",
      "|    2|1Ef7b82A4CAAD10|   Preston|   Lozano|         Vega-Gentry|East Jimmychester|            Djibouti|          5153435776|    686-620-1820x944|     vmata@colon.com|       2021-04-23|http://www.hobbs....|\n",
      "|    3|6F94879bDAfE5a6|       Roy|    Berry|       Murillo-Perry|    Isabelborough| Antigua and Barbuda|     +1-539-402-0259| (496)978-3969x58947| beckycarr@hogan.com|       2020-03-25|http://www.lawren...|\n",
      "|    4|5Cef8BFA16c5e3c|     Linda|    Olsen|Dominguez, Mcmill...|       Bensonview|  Dominican Republic|001-808-617-6467x...|     +1-813-324-8756|stanleyblackwell@...|       2020-06-02|http://www.good-l...|\n",
      "|    5|053d585Ab6b3159|    Joanna|   Bender|Martin, Lang and ...|   West Priscilla|Slovakia (Slovak ...|001-234-203-0635x...|001-199-446-3860x...|colinalvarado@mil...|       2021-04-17|https://goodwin-i...|\n",
      "|    6|2d08FB17EE273F4|     Aimee|    Downs|        Steele Group|    Chavezborough|Bosnia and Herzeg...| (283)437-3886x88321|        999-728-1637| louis27@gilbert.com|       2020-02-25|http://www.berger...|\n",
      "|    7|EA4d384DfDbBf77|    Darren|     Peck|Lester, Woodard a...|         Lake Ana|    Pitcairn Islands|  (496)452-6181x3291|+1-247-266-0963x4995| tgates@cantrell.com|       2021-08-24| https://www.le.com/|\n",
      "|    8|0e04AFde9f225dE|     Brett|   Mullen|Sanford, Davenpor...|          Kimport|            Bulgaria|001-583-352-7197x297|    001-333-145-0369|     asnow@colon.com|       2021-04-12|https://hammond-r...|\n",
      "|    9|C2dE4dEEc489ae0|    Sheryl|   Meyers|      Browning-Simon|     Robersonstad|              Cyprus|   854-138-4911x5772| +1-448-910-2276x729|mariokhan@ryan-po...|       2020-01-13|https://www.bullo...|\n",
      "|   10|8C2811a503C7c5a|  Michelle|Gallagher|        Beck-Hendrix|       Elaineberg|         Timor-Leste|    739.218.2516x459|001-054-401-0347x617|   mdyer@escobar.net|       2021-11-08|  https://arias.com/|\n",
      "|   11|216E205d6eBb815|      Carl|Schroeder|Oconnell, Meza an...|     Shannonville|            Guernsey|    637-854-0256x825|    114.336.0784x788|  kirksalas@webb.com|       2021-10-20|https://simmons-h...|\n",
      "|   12|CEDec94deE6d69B|     Jenna|   Dodson|Hoffman, Reed and...|      East Andrea|             Vietnam|       (041)737-3846|+1-556-888-3485x4...|  mark42@robbins.com|       2020-11-29|http://www.dougla...|\n",
      "|   13|e35426EbDEceaFF|    Tracey|     Mata|      Graham-Francis|South Joannamouth|                Togo|    001-949-844-8787|       (855)713-8773|    alex56@walls.org|       2021-12-02|http://www.beck.com/|\n",
      "|   14|A08A8aF8BE9FaD4|  Kristine|      Cox|      Carpenter-Cook|         Jodyberg|           Sri Lanka|  786-284-3358x62152|+1-315-627-1796x8074|holdenmiranda@cla...|       2021-02-08|https://www.brand...|\n",
      "|   15|6fEaA1b7cab7B6C|     Faith|     Lutz|      Carter-Hancock|        Burchbury|           Singapore|  (781)861-7180x8306|        207-185-3665|cassieparrish@ble...|       2022-01-26|http://stevenson....|\n",
      "|   16|8cad0b4CBceaeec|   Miranda|  Beasley|  Singleton and Sons|     Desireeshire|                Oman|    540.085.3135x185|+1-600-462-6432x2...|vduncan@parks-har...|       2022-04-12|  http://acosta.org/|\n",
      "|   17|a5DC21AE3a21eaA|  Caroline|    Foley|     Winters-Mendoza|West Adriennestad|      Western Sahara|   936.222.4746x9924|001-469-948-6341x359|holtgwendolyn@wat...|       2021-03-10|http://www.benson...|\n",
      "|   18|F8Aa9d6DfcBeeF8|      Greg|     Mata|       Valentine LLC|      Lake Leslie|          Mozambique|       (701)087-2415| (195)156-1861x26241|jaredjuarez@carro...|       2022-03-26|http://pitts-cher...|\n",
      "|   19|F160f5Db3EfE973|  Clifford| Jacobson|           Simon LLC|       Harmonview|South Georgia and...|001-151-330-3524x...|       (748)477-7174|joseph26@jacobson...|       2020-09-24|https://mcconnell...|\n",
      "|   20|0F60FF3DdCd7aB0|    Joanna|     Kirk|      Mays-Mccormick|       Jamesshire|    French Polynesia|   (266)131-7001x711| (283)312-5579x11543|tuckerangie@salaz...|       2021-09-24|https://www.camac...|\n",
      "+-----+---------------+----------+---------+--------------------+-----------------+--------------------+--------------------+--------------------+--------------------+-----------------+--------------------+\n",
      "only showing top 20 rows\n",
      "\n"
     ]
    }
   ],
   "source": [
    "import pandas as pd\n",
    "\n",
    "df_pandas = pd.read_csv('customers-100.csv')\n",
    "\n",
    "spark.createDataFrame(df_pandas).show()"
   ]
  },
  {
   "cell_type": "code",
   "execution_count": 9,
   "id": "fe0b931e-04b0-4b08-8b3f-89d12cb52b55",
   "metadata": {},
   "outputs": [
    {
     "data": {
      "text/plain": [
       "StructType([StructField('Index', LongType(), True), StructField('Customer Id', StringType(), True), StructField('First Name', StringType(), True), StructField('Last Name', StringType(), True), StructField('Company', StringType(), True), StructField('City', StringType(), True), StructField('Country', StringType(), True), StructField('Phone 1', StringType(), True), StructField('Phone 2', StringType(), True), StructField('Email', StringType(), True), StructField('Subscription Date', StringType(), True), StructField('Website', StringType(), True)])"
      ]
     },
     "execution_count": 9,
     "metadata": {},
     "output_type": "execute_result"
    }
   ],
   "source": [
    "spark.createDataFrame(df_pandas).schema"
   ]
  },
  {
   "cell_type": "code",
   "execution_count": 15,
   "id": "a7213b94-577a-4a9c-b2a0-7406951d6cea",
   "metadata": {},
   "outputs": [],
   "source": [
    "from pyspark.sql import types"
   ]
  },
  {
   "cell_type": "code",
   "execution_count": 16,
   "id": "346fcd25-b1b2-47ba-8d39-eb6990f11793",
   "metadata": {},
   "outputs": [],
   "source": [
    "schema = types.StructType([\n",
    "        types.StructField('Index', types.LongType(),True), \n",
    "        types.StructField('Customer Id', types.StringType(), True),\n",
    "        types.StructField('First Name', types.StringType(), True),\n",
    "        types.StructField('Last Name',types. StringType(), True),\n",
    "        types.StructField('Company', types.StringType(), True),\n",
    "        types.StructField('City', types.StringType(), True),\n",
    "        types.StructField('Country', types.StringType(), True),\n",
    "        types.StructField('Phone 1', types.StringType(), True),\n",
    "        types.StructField('Phone 2', types.StringType(), True),\n",
    "        types.StructField('Email', types.StringType(), True),\n",
    "        types.StructField('Subscription Date', types.StringType(), True),\n",
    "        types.StructField('Website', types.StringType(), True)\n",
    "                          ])"
   ]
  },
  {
   "cell_type": "code",
   "execution_count": 17,
   "id": "f42ea124-e743-4308-8a96-11b8aab8e371",
   "metadata": {},
   "outputs": [],
   "source": [
    "df = spark.read \\\n",
    "    .option(\"header\", \"true\") \\\n",
    "    .schema(schema) \\\n",
    "    .csv('customers-100.csv')"
   ]
  },
  {
   "cell_type": "code",
   "execution_count": 19,
   "id": "3bcd193d-69dc-4bec-8f5d-25fc5efbdd07",
   "metadata": {},
   "outputs": [
    {
     "data": {
      "text/plain": [
       "[Row(Index=1, Customer Id='DD37Cf93aecA6Dc', First Name='Sheryl', Last Name='Baxter', Company='Rasmussen Group', City='East Leonard', Country='Chile', Phone 1='229.077.5154', Phone 2='397.884.0519x718', Email='zunigavanessa@smith.info', Subscription Date='2020-08-24', Website='http://www.stephenson.com/')]"
      ]
     },
     "execution_count": 19,
     "metadata": {},
     "output_type": "execute_result"
    }
   ],
   "source": [
    "df.head(1)"
   ]
  },
  {
   "cell_type": "code",
   "execution_count": 20,
   "id": "d0f29503-9142-4203-9334-dd3f1b063744",
   "metadata": {},
   "outputs": [],
   "source": [
    "df = df.repartition(24)"
   ]
  },
  {
   "cell_type": "code",
   "execution_count": 21,
   "id": "069bc04f-04ce-4b96-833b-db1c7c02a765",
   "metadata": {},
   "outputs": [
    {
     "name": "stderr",
     "output_type": "stream",
     "text": [
      "24/02/29 00:11:46 WARN MemoryManager: Total allocation exceeds 95.00% (1,020,054,720 bytes) of heap memory\n",
      "Scaling row group sizes to 95.00% for 8 writers\n",
      "24/02/29 00:11:46 WARN MemoryManager: Total allocation exceeds 95.00% (1,020,054,720 bytes) of heap memory\n",
      "Scaling row group sizes to 84.44% for 9 writers\n",
      "24/02/29 00:11:46 WARN MemoryManager: Total allocation exceeds 95.00% (1,020,054,720 bytes) of heap memory\n",
      "Scaling row group sizes to 76.00% for 10 writers\n",
      "24/02/29 00:11:46 WARN MemoryManager: Total allocation exceeds 95.00% (1,020,054,720 bytes) of heap memory\n",
      "Scaling row group sizes to 69.09% for 11 writers\n",
      "24/02/29 00:11:46 WARN MemoryManager: Total allocation exceeds 95.00% (1,020,054,720 bytes) of heap memory\n",
      "Scaling row group sizes to 63.33% for 12 writers\n",
      "24/02/29 00:11:47 WARN MemoryManager: Total allocation exceeds 95.00% (1,020,054,720 bytes) of heap memory\n",
      "Scaling row group sizes to 69.09% for 11 writers\n",
      "24/02/29 00:11:47 WARN MemoryManager: Total allocation exceeds 95.00% (1,020,054,720 bytes) of heap memory\n",
      "Scaling row group sizes to 76.00% for 10 writers\n",
      "24/02/29 00:11:47 WARN MemoryManager: Total allocation exceeds 95.00% (1,020,054,720 bytes) of heap memory\n",
      "Scaling row group sizes to 84.44% for 9 writers\n",
      "24/02/29 00:11:47 WARN MemoryManager: Total allocation exceeds 95.00% (1,020,054,720 bytes) of heap memory\n",
      "Scaling row group sizes to 95.00% for 8 writers\n",
      "                                                                                \r"
     ]
    }
   ],
   "source": [
    "df.write.parquet('customers/')"
   ]
  },
  {
   "cell_type": "code",
   "execution_count": 7,
   "id": "0d7fbec5-8f7d-46c0-b9b5-8a9a50bb5310",
   "metadata": {},
   "outputs": [
    {
     "name": "stderr",
     "output_type": "stream",
     "text": [
      "                                                                                \r"
     ]
    }
   ],
   "source": [
    "df = spark.read.parquet('customers')"
   ]
  },
  {
   "cell_type": "code",
   "execution_count": 8,
   "id": "a075f639-4001-48e7-91a3-846719535d14",
   "metadata": {},
   "outputs": [
    {
     "data": {
      "text/plain": [
       "DataFrame[Index: bigint, Customer Id: string, First Name: string, Last Name: string, Company: string, City: string, Country: string, Phone 1: string, Phone 2: string, Email: string, Subscription Date: string, Website: string]"
      ]
     },
     "execution_count": 8,
     "metadata": {},
     "output_type": "execute_result"
    }
   ],
   "source": [
    "df"
   ]
  },
  {
   "cell_type": "code",
   "execution_count": 9,
   "id": "c0809972-80cc-4468-9de8-cd1416fcc468",
   "metadata": {},
   "outputs": [
    {
     "name": "stderr",
     "output_type": "stream",
     "text": [
      "                                                                                \r"
     ]
    },
    {
     "name": "stdout",
     "output_type": "stream",
     "text": [
      "+-----+---------------+----------+---------+--------------------+-------------------+--------------------+--------------------+--------------------+--------------------+-----------------+--------------------+\n",
      "|Index|    Customer Id|First Name|Last Name|             Company|               City|             Country|             Phone 1|             Phone 2|               Email|Subscription Date|             Website|\n",
      "+-----+---------------+----------+---------+--------------------+-------------------+--------------------+--------------------+--------------------+--------------------+-----------------+--------------------+\n",
      "|   27|aBdfcF2c50b0bfD|    Dakota|    Poole|       Simmons Group|       Michealshire|             Belarus|  (371)987-8576x4720|        071-152-1376| stacey67@fields.org|       2022-02-20|https://sanford-w...|\n",
      "|   87|ebe77E5Bf9476CE|     Duane|    Woods|      Montoya-Miller|          Lyonsberg|            Maldives|  (636)544-7783x7288|  (203)287-1003x5932|  kmercer@wagner.com|       2020-07-21|  http://murray.org/|\n",
      "|   94|54B5B5Fe9F1B6C5|    Sherry|    Young|Lee, Lucero and J...|       Frankchester|     Solomon Islands|        158-687-1764|   (438)375-6207x003|alan79@gates-mcla...|       2021-04-04| https://travis.net/|\n",
      "|   58|B5acdFC982124F2|     Danny|  Parrish|           Novak LLC|     East Jaredbury|United Arab Emirates|  (669)384-8597x8794|    506.731.5952x571|howelldarren@hous...|       2021-03-17|http://www.parson...|\n",
      "|    3|6F94879bDAfE5a6|       Roy|    Berry|       Murillo-Perry|      Isabelborough| Antigua and Barbuda|     +1-539-402-0259| (496)978-3969x58947| beckycarr@hogan.com|       2020-03-25|http://www.lawren...|\n",
      "|   54|c09952De6Cda8aA|    Stacie|  Richard|            Byrd Inc|        New Deborah|          Madagascar|001-622-948-3641x...|001-731-168-2893x...|clinton85@colon-a...|       2020-10-15|    https://kim.com/|\n",
      "|   35|aA9BAFfBc3710fe|     Faith|     Moon|Waters, Chase and...|   West Marthaburgh|             Bahamas|+1-586-217-0359x6317|     +1-818-199-1403|willistonya@rando...|       2021-11-03|https://spencer-c...|\n",
      "|   92|98b3aeDcC3B9FF3|     Shane|    Foley|          Rocha-Hart|   South Dannymouth|             Hungary|     +1-822-569-0302|001-626-114-5844x...|  nsteele@sparks.com|       2021-07-06|https://www.holt-...|\n",
      "|   13|e35426EbDEceaFF|    Tracey|     Mata|      Graham-Francis|  South Joannamouth|                Togo|    001-949-844-8787|       (855)713-8773|    alex56@walls.org|       2021-12-02|http://www.beck.com/|\n",
      "|   20|0F60FF3DdCd7aB0|    Joanna|     Kirk|      Mays-Mccormick|         Jamesshire|    French Polynesia|   (266)131-7001x711| (283)312-5579x11543|tuckerangie@salaz...|       2021-09-24|https://www.camac...|\n",
      "|   68|a014Ec1b9FccC1E|       Tom| Alvarado| Donaldson-Dougherty|   South Sophiaberg|            Kiribati|  (585)606-2980x2258|   730-797-3594x5614|nicholsonnina@mon...|       2020-08-18|http://odom-masse...|\n",
      "|   30|EDA69ca7a6e96a2|      Kent| Bradshaw|          Sawyer PLC|       North Harold|            Tanzania| +1-472-143-5037x884|        126.922.6153|   qjimenez@boyd.com|       2020-04-26|http://maynard-ho...|\n",
      "|   10|8C2811a503C7c5a|  Michelle|Gallagher|        Beck-Hendrix|         Elaineberg|         Timor-Leste|    739.218.2516x459|001-054-401-0347x617|   mdyer@escobar.net|       2021-11-08|  https://arias.com/|\n",
      "|   77|BF6a1f9bd1bf8DE|  Brittany|   Zuniga|        Mason-Hester|      West Reginald|     Kyrgyz Republic|       (050)136-9025|001-480-851-2496x...|mchandler@cochran...|       2021-07-24|http://www.boyle....|\n",
      "|   26|09D7D7C8Fe09aea|    Marcus|    Moody|           Giles Ltd|        Kaitlyntown|              Panama|        674-677-8623|    909-277-5485x566|donnamullins@norr...|       2022-05-24|https://www.curry...|\n",
      "|   59|8c7DdF10798bCC3|     Kathy|     Hill|Moore, Mccoy and ...|         Selenabury|South Georgia and...|001-171-716-2175x310|        888.625.0654|ncamacho@boone-si...|       2020-11-15|  http://hayden.com/|\n",
      "|   43|7E441b6B228DBcA|     Wayne|  Simpson|     Perkins-Trevino|East Rebekahborough|             Bolivia|  (344)156-8632x1869|  463-445-3702x38463|barbarapittman@ho...|       2020-12-13|https://gillespie...|\n",
      "|   63|aEcbe5365BbC67D|     Eddie|  Jimenez|      Caldwell Group|      West Kristine|            Ethiopia|+1-235-657-1073x6306|  (026)401-7353x2417|kristiwhitney@ber...|       2022-03-24|  http://cherry.com/|\n",
      "|   65|636cBF0835E10ff|    Eileen|    Lynch|Knight, Abbott an...|       Helenborough|             Liberia|+1-158-951-4131x5...|001-673-779-6713x680|levigiles@vincent...|       2021-01-02|   http://mckay.com/|\n",
      "|   80|A7F85c1DE4dB87f| Alejandro|    Blair|Combs, Waller and...|         Thomasland|             Iceland| (690)068-4641x51468|   555.509.8691x2329|elizabethbarr@ewi...|       2020-09-19|https://mercado-b...|\n",
      "+-----+---------------+----------+---------+--------------------+-------------------+--------------------+--------------------+--------------------+--------------------+-----------------+--------------------+\n",
      "only showing top 20 rows\n",
      "\n"
     ]
    }
   ],
   "source": [
    "df.show()"
   ]
  },
  {
   "cell_type": "code",
   "execution_count": 10,
   "id": "0a2ec835-c93c-4213-b203-07c0d892ef6a",
   "metadata": {},
   "outputs": [
    {
     "name": "stdout",
     "output_type": "stream",
     "text": [
      "root\n",
      " |-- Index: long (nullable = true)\n",
      " |-- Customer Id: string (nullable = true)\n",
      " |-- First Name: string (nullable = true)\n",
      " |-- Last Name: string (nullable = true)\n",
      " |-- Company: string (nullable = true)\n",
      " |-- City: string (nullable = true)\n",
      " |-- Country: string (nullable = true)\n",
      " |-- Phone 1: string (nullable = true)\n",
      " |-- Phone 2: string (nullable = true)\n",
      " |-- Email: string (nullable = true)\n",
      " |-- Subscription Date: string (nullable = true)\n",
      " |-- Website: string (nullable = true)\n",
      "\n"
     ]
    }
   ],
   "source": [
    "df.printSchema()"
   ]
  },
  {
   "cell_type": "code",
   "execution_count": 21,
   "id": "d58571f5-df9a-4264-9c60-2a07864854df",
   "metadata": {},
   "outputs": [
    {
     "ename": "SyntaxError",
     "evalue": "invalid syntax (2531532772.py, line 1)",
     "output_type": "error",
     "traceback": [
      "\u001b[0;36m  Cell \u001b[0;32mIn[21], line 1\u001b[0;36m\u001b[0m\n\u001b[0;31m    df.select('First Name', 'last Name').filter(df.\"Customer Id\" == 2)\u001b[0m\n\u001b[0m                                                   ^\u001b[0m\n\u001b[0;31mSyntaxError\u001b[0m\u001b[0;31m:\u001b[0m invalid syntax\n"
     ]
    }
   ],
   "source": [
    "df.select('First Name', 'last Name').filter(df.\"Customer Id\" == 2)"
   ]
  },
  {
   "cell_type": "code",
   "execution_count": 16,
   "id": "83283772-2fc8-49d2-b5e8-c17145c629ac",
   "metadata": {},
   "outputs": [
    {
     "name": "stdout",
     "output_type": "stream",
     "text": [
      "+-----+---------------+----------+---------+-------------+------------+-------+------------------+------------+-------------------+-----------------+--------------------+\n",
      "|Index|    Customer Id|First Name|Last Name|      Company|        City|Country|           Phone 1|     Phone 2|              Email|Subscription Date|             Website|\n",
      "+-----+---------------+----------+---------+-------------+------------+-------+------------------+------------+-------------------+-----------------+--------------------+\n",
      "|   27|aBdfcF2c50b0bfD|    Dakota|    Poole|Simmons Group|Michealshire|Belarus|(371)987-8576x4720|071-152-1376|stacey67@fields.org|       2022-02-20|https://sanford-w...|\n",
      "+-----+---------------+----------+---------+-------------+------------+-------+------------------+------------+-------------------+-----------------+--------------------+\n",
      "only showing top 1 row\n",
      "\n"
     ]
    }
   ],
   "source": [
    "df.show(1)"
   ]
  },
  {
   "cell_type": "code",
   "execution_count": 1,
   "id": "305078fc-e544-4c9b-9ece-5653c6ddb302",
   "metadata": {},
   "outputs": [
    {
     "ename": "NameError",
     "evalue": "name 'spark' is not defined",
     "output_type": "error",
     "traceback": [
      "\u001b[0;31m---------------------------------------------------------------------------\u001b[0m",
      "\u001b[0;31mNameError\u001b[0m                                 Traceback (most recent call last)",
      "Cell \u001b[0;32mIn[1], line 1\u001b[0m\n\u001b[0;32m----> 1\u001b[0m \u001b[43mspark\u001b[49m\u001b[38;5;241m.\u001b[39mversion\n",
      "\u001b[0;31mNameError\u001b[0m: name 'spark' is not defined"
     ]
    }
   ],
   "source": [
    "spark.version"
   ]
  }
 ],
 "metadata": {
  "kernelspec": {
   "display_name": "Python 3 (ipykernel)",
   "language": "python",
   "name": "python3"
  },
  "language_info": {
   "codemirror_mode": {
    "name": "ipython",
    "version": 3
   },
   "file_extension": ".py",
   "mimetype": "text/x-python",
   "name": "python",
   "nbconvert_exporter": "python",
   "pygments_lexer": "ipython3",
   "version": "3.11.4"
  }
 },
 "nbformat": 4,
 "nbformat_minor": 5
}
